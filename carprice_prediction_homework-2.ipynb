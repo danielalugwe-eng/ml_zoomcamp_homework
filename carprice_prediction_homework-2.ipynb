{
 "cells": [
  {
   "cell_type": "code",
   "execution_count": 1,
   "id": "e59afc76",
   "metadata": {},
   "outputs": [],
   "source": [
    "import pandas as pd\n",
    "import seaborn as sns\n",
    "import numpy as np"
   ]
  },
  {
   "cell_type": "code",
   "execution_count": 2,
   "id": "8728da4f",
   "metadata": {},
   "outputs": [
    {
     "data": {
      "text/html": [
       "<div>\n",
       "<style scoped>\n",
       "    .dataframe tbody tr th:only-of-type {\n",
       "        vertical-align: middle;\n",
       "    }\n",
       "\n",
       "    .dataframe tbody tr th {\n",
       "        vertical-align: top;\n",
       "    }\n",
       "\n",
       "    .dataframe thead th {\n",
       "        text-align: right;\n",
       "    }\n",
       "</style>\n",
       "<table border=\"1\" class=\"dataframe\">\n",
       "  <thead>\n",
       "    <tr style=\"text-align: right;\">\n",
       "      <th></th>\n",
       "      <th>engine_displacement</th>\n",
       "      <th>num_cylinders</th>\n",
       "      <th>horsepower</th>\n",
       "      <th>vehicle_weight</th>\n",
       "      <th>acceleration</th>\n",
       "      <th>model_year</th>\n",
       "      <th>origin</th>\n",
       "      <th>fuel_type</th>\n",
       "      <th>drivetrain</th>\n",
       "      <th>num_doors</th>\n",
       "      <th>fuel_efficiency_mpg</th>\n",
       "    </tr>\n",
       "  </thead>\n",
       "  <tbody>\n",
       "    <tr>\n",
       "      <th>0</th>\n",
       "      <td>170</td>\n",
       "      <td>3.0</td>\n",
       "      <td>159.0</td>\n",
       "      <td>3413.433759</td>\n",
       "      <td>17.7</td>\n",
       "      <td>2003</td>\n",
       "      <td>Europe</td>\n",
       "      <td>Gasoline</td>\n",
       "      <td>All-wheel drive</td>\n",
       "      <td>0.0</td>\n",
       "      <td>13.231729</td>\n",
       "    </tr>\n",
       "    <tr>\n",
       "      <th>1</th>\n",
       "      <td>130</td>\n",
       "      <td>5.0</td>\n",
       "      <td>97.0</td>\n",
       "      <td>3149.664934</td>\n",
       "      <td>17.8</td>\n",
       "      <td>2007</td>\n",
       "      <td>USA</td>\n",
       "      <td>Gasoline</td>\n",
       "      <td>Front-wheel drive</td>\n",
       "      <td>0.0</td>\n",
       "      <td>13.688217</td>\n",
       "    </tr>\n",
       "    <tr>\n",
       "      <th>2</th>\n",
       "      <td>170</td>\n",
       "      <td>NaN</td>\n",
       "      <td>78.0</td>\n",
       "      <td>3079.038997</td>\n",
       "      <td>15.1</td>\n",
       "      <td>2018</td>\n",
       "      <td>Europe</td>\n",
       "      <td>Gasoline</td>\n",
       "      <td>Front-wheel drive</td>\n",
       "      <td>0.0</td>\n",
       "      <td>14.246341</td>\n",
       "    </tr>\n",
       "    <tr>\n",
       "      <th>3</th>\n",
       "      <td>220</td>\n",
       "      <td>4.0</td>\n",
       "      <td>NaN</td>\n",
       "      <td>2542.392402</td>\n",
       "      <td>20.2</td>\n",
       "      <td>2009</td>\n",
       "      <td>USA</td>\n",
       "      <td>Diesel</td>\n",
       "      <td>All-wheel drive</td>\n",
       "      <td>2.0</td>\n",
       "      <td>16.912736</td>\n",
       "    </tr>\n",
       "    <tr>\n",
       "      <th>4</th>\n",
       "      <td>210</td>\n",
       "      <td>1.0</td>\n",
       "      <td>140.0</td>\n",
       "      <td>3460.870990</td>\n",
       "      <td>14.4</td>\n",
       "      <td>2009</td>\n",
       "      <td>Europe</td>\n",
       "      <td>Gasoline</td>\n",
       "      <td>All-wheel drive</td>\n",
       "      <td>2.0</td>\n",
       "      <td>12.488369</td>\n",
       "    </tr>\n",
       "    <tr>\n",
       "      <th>...</th>\n",
       "      <td>...</td>\n",
       "      <td>...</td>\n",
       "      <td>...</td>\n",
       "      <td>...</td>\n",
       "      <td>...</td>\n",
       "      <td>...</td>\n",
       "      <td>...</td>\n",
       "      <td>...</td>\n",
       "      <td>...</td>\n",
       "      <td>...</td>\n",
       "      <td>...</td>\n",
       "    </tr>\n",
       "    <tr>\n",
       "      <th>9699</th>\n",
       "      <td>140</td>\n",
       "      <td>5.0</td>\n",
       "      <td>164.0</td>\n",
       "      <td>2981.107371</td>\n",
       "      <td>17.3</td>\n",
       "      <td>2013</td>\n",
       "      <td>Europe</td>\n",
       "      <td>Diesel</td>\n",
       "      <td>Front-wheel drive</td>\n",
       "      <td>NaN</td>\n",
       "      <td>15.101802</td>\n",
       "    </tr>\n",
       "    <tr>\n",
       "      <th>9700</th>\n",
       "      <td>180</td>\n",
       "      <td>NaN</td>\n",
       "      <td>154.0</td>\n",
       "      <td>2439.525729</td>\n",
       "      <td>15.0</td>\n",
       "      <td>2004</td>\n",
       "      <td>USA</td>\n",
       "      <td>Gasoline</td>\n",
       "      <td>All-wheel drive</td>\n",
       "      <td>0.0</td>\n",
       "      <td>17.962326</td>\n",
       "    </tr>\n",
       "    <tr>\n",
       "      <th>9701</th>\n",
       "      <td>220</td>\n",
       "      <td>2.0</td>\n",
       "      <td>138.0</td>\n",
       "      <td>2583.471318</td>\n",
       "      <td>15.1</td>\n",
       "      <td>2008</td>\n",
       "      <td>USA</td>\n",
       "      <td>Diesel</td>\n",
       "      <td>All-wheel drive</td>\n",
       "      <td>-1.0</td>\n",
       "      <td>17.186587</td>\n",
       "    </tr>\n",
       "    <tr>\n",
       "      <th>9702</th>\n",
       "      <td>230</td>\n",
       "      <td>4.0</td>\n",
       "      <td>177.0</td>\n",
       "      <td>2905.527390</td>\n",
       "      <td>19.4</td>\n",
       "      <td>2011</td>\n",
       "      <td>USA</td>\n",
       "      <td>Diesel</td>\n",
       "      <td>Front-wheel drive</td>\n",
       "      <td>1.0</td>\n",
       "      <td>15.331551</td>\n",
       "    </tr>\n",
       "    <tr>\n",
       "      <th>9703</th>\n",
       "      <td>270</td>\n",
       "      <td>3.0</td>\n",
       "      <td>140.0</td>\n",
       "      <td>2908.043477</td>\n",
       "      <td>14.7</td>\n",
       "      <td>2005</td>\n",
       "      <td>Asia</td>\n",
       "      <td>Diesel</td>\n",
       "      <td>All-wheel drive</td>\n",
       "      <td>-1.0</td>\n",
       "      <td>14.884467</td>\n",
       "    </tr>\n",
       "  </tbody>\n",
       "</table>\n",
       "<p>9704 rows × 11 columns</p>\n",
       "</div>"
      ],
      "text/plain": [
       "      engine_displacement  num_cylinders  horsepower  vehicle_weight  \\\n",
       "0                     170            3.0       159.0     3413.433759   \n",
       "1                     130            5.0        97.0     3149.664934   \n",
       "2                     170            NaN        78.0     3079.038997   \n",
       "3                     220            4.0         NaN     2542.392402   \n",
       "4                     210            1.0       140.0     3460.870990   \n",
       "...                   ...            ...         ...             ...   \n",
       "9699                  140            5.0       164.0     2981.107371   \n",
       "9700                  180            NaN       154.0     2439.525729   \n",
       "9701                  220            2.0       138.0     2583.471318   \n",
       "9702                  230            4.0       177.0     2905.527390   \n",
       "9703                  270            3.0       140.0     2908.043477   \n",
       "\n",
       "      acceleration  model_year  origin fuel_type         drivetrain  \\\n",
       "0             17.7        2003  Europe  Gasoline    All-wheel drive   \n",
       "1             17.8        2007     USA  Gasoline  Front-wheel drive   \n",
       "2             15.1        2018  Europe  Gasoline  Front-wheel drive   \n",
       "3             20.2        2009     USA    Diesel    All-wheel drive   \n",
       "4             14.4        2009  Europe  Gasoline    All-wheel drive   \n",
       "...            ...         ...     ...       ...                ...   \n",
       "9699          17.3        2013  Europe    Diesel  Front-wheel drive   \n",
       "9700          15.0        2004     USA  Gasoline    All-wheel drive   \n",
       "9701          15.1        2008     USA    Diesel    All-wheel drive   \n",
       "9702          19.4        2011     USA    Diesel  Front-wheel drive   \n",
       "9703          14.7        2005    Asia    Diesel    All-wheel drive   \n",
       "\n",
       "      num_doors  fuel_efficiency_mpg  \n",
       "0           0.0            13.231729  \n",
       "1           0.0            13.688217  \n",
       "2           0.0            14.246341  \n",
       "3           2.0            16.912736  \n",
       "4           2.0            12.488369  \n",
       "...         ...                  ...  \n",
       "9699        NaN            15.101802  \n",
       "9700        0.0            17.962326  \n",
       "9701       -1.0            17.186587  \n",
       "9702        1.0            15.331551  \n",
       "9703       -1.0            14.884467  \n",
       "\n",
       "[9704 rows x 11 columns]"
      ]
     },
     "execution_count": 2,
     "metadata": {},
     "output_type": "execute_result"
    }
   ],
   "source": [
    "df = pd.read_csv(\"https://raw.githubusercontent.com/alexeygrigorev/datasets/master/car_fuel_efficiency.csv\")\n",
    "df"
   ]
  },
  {
   "cell_type": "markdown",
   "id": "f999bbe5",
   "metadata": {},
   "source": [
    "**Preparing the dataset**\n",
    "\n",
    "Use only the following columns:\n",
    "\n",
    "- 'engine_displacement',\n",
    "- 'horsepower',\n",
    "- 'vehicle_weight',\n",
    "- 'model_year',\n",
    "- 'fuel_efficiency_mpg'"
   ]
  },
  {
   "cell_type": "code",
   "execution_count": 3,
   "id": "68d972f7",
   "metadata": {},
   "outputs": [],
   "source": [
    "df = df[['engine_displacement','horsepower','vehicle_weight','model_year','fuel_efficiency_mpg']]"
   ]
  },
  {
   "cell_type": "markdown",
   "id": "dabea468",
   "metadata": {},
   "source": [
    "**EDA**\n",
    "\n",
    "Look at the fuel_efficiency_mpg variable. Does it have a long tail?\n"
   ]
  },
  {
   "cell_type": "code",
   "execution_count": 4,
   "id": "bdcbb75f",
   "metadata": {},
   "outputs": [],
   "source": [
    "import matplotlib.pyplot as plt\n",
    "%matplotlib inline"
   ]
  },
  {
   "cell_type": "code",
   "execution_count": 7,
   "id": "fd354bf4",
   "metadata": {},
   "outputs": [
    {
     "data": {
      "image/png": "[encoded data removed]",
      "text/plain": [
       "<Figure size 640x480 with 1 Axes>"
      ]
     },
     "metadata": {},
     "output_type": "display_data"
    }
   ],
   "source": [
    "sns.histplot(df.fuel_efficiency_mpg, kde=True)\n",
    "plt.show()"
   ]
  },
  {
   "cell_type": "markdown",
   "id": "a7259a42",
   "metadata": {},
   "source": [
    "We have a perfect normal distribution."
   ]
  },
  {
   "cell_type": "markdown",
   "id": "554f9dcc",
   "metadata": {},
   "source": [
    "### Question 1\n",
    "**There's one column with missing values. What is it?**\n",
    "\n",
    "- 'engine_displacement'\n",
    "- 'horsepower'\n",
    "- 'vehicle_weight'\n",
    "- 'model_year'"
   ]
  },
  {
   "cell_type": "code",
   "execution_count": 8,
   "id": "968b3cbe",
   "metadata": {},
   "outputs": [
    {
     "data": {
      "text/plain": [
       "engine_displacement      0\n",
       "horsepower             708\n",
       "vehicle_weight           0\n",
       "model_year               0\n",
       "fuel_efficiency_mpg      0\n",
       "dtype: int64"
      ]
     },
     "execution_count": 8,
     "metadata": {},
     "output_type": "execute_result"
    }
   ],
   "source": [
    "df.isnull().sum()"
   ]
  },
  {
   "cell_type": "markdown",
   "id": "510c0598",
   "metadata": {},
   "source": [
    "The only one column with missing values is 'horsepower' with 708 NaN values."
   ]
  },
  {
   "cell_type": "markdown",
   "id": "2253f8f5",
   "metadata": {},
   "source": [
    "### Question 2\n",
    "**What's the median (50% percentile) for variable 'horsepower'?**\n",
    "\n",
    "- 49\n",
    "- 99\n",
    "- 149\n",
    "- 199"
   ]
  },
  {
   "cell_type": "code",
   "execution_count": 9,
   "id": "59ace024",
   "metadata": {},
   "outputs": [
    {
     "data": {
      "text/plain": [
       "149.0"
      ]
     },
     "execution_count": 9,
     "metadata": {},
     "output_type": "execute_result"
    }
   ],
   "source": [
    "df[\"horsepower\"].median()"
   ]
  },
  {
   "cell_type": "markdown",
   "id": "352e75e9",
   "metadata": {},
   "source": [
    "Median is 149."
   ]
  },
  {
   "cell_type": "markdown",
   "id": "47526080",
   "metadata": {},
   "source": [
    "### Prepare and split the dataset\n",
    "- Shuffle the dataset (the filtered one you created above), use seed 42.\n",
    "- Split your data in train/val/test sets, with 60%/20%/20% distribution.\n",
    "- Use the same code as in the lectures"
   ]
  },
  {
   "cell_type": "code",
   "execution_count": 10,
   "id": "fff6acbe",
   "metadata": {},
   "outputs": [
    {
     "data": {
      "text/plain": [
       "(9704, 9702, 5822, 1940, 1940)"
      ]
     },
     "execution_count": 10,
     "metadata": {},
     "output_type": "execute_result"
    }
   ],
   "source": [
    "train_n = int(len(df)*0.6)\n",
    "val_n = int(len(df)*0.2)\n",
    "test_n = int(len(df)*0.2)\n",
    "\n",
    "len(df) , train_n + val_n + test_n, train_n,val_n,test_n"
   ]
  },
  {
   "cell_type": "code",
   "execution_count": 11,
   "id": "d5c70b6f",
   "metadata": {},
   "outputs": [
    {
     "data": {
      "text/plain": [
       "(5822, 1940, 1942)"
      ]
     },
     "execution_count": 11,
     "metadata": {},
     "output_type": "execute_result"
    }
   ],
   "source": [
    "x_train = df.iloc[:train_n]\n",
    "x_val = df.iloc[train_n: train_n +val_n]\n",
    "x_test = df.iloc[train_n + val_n:]\n",
    "len(x_train),len(x_val),len(x_test)"
   ]
  },
  {
   "cell_type": "code",
   "execution_count": 12,
   "id": "1dd1febe",
   "metadata": {},
   "outputs": [
    {
     "data": {
      "text/plain": [
       "array([ 483, 7506, 8795, ..., 5390,  860, 7270])"
      ]
     },
     "execution_count": 12,
     "metadata": {},
     "output_type": "execute_result"
    }
   ],
   "source": [
    "np.random.seed(42)\n",
    "idx = np.arange(len(df))\n",
    "np.random.shuffle(idx)\n",
    "idx"
   ]
  },
  {
   "cell_type": "code",
   "execution_count": 13,
   "id": "052abf0f",
   "metadata": {},
   "outputs": [],
   "source": [
    "x_train = df.iloc[idx[:train_n]]\n",
    "x_val = df.iloc[idx[train_n: train_n +val_n]]\n",
    "x_test = df.iloc[idx[train_n + val_n:]]\n"
   ]
  },
  {
   "cell_type": "code",
   "execution_count": 14,
   "id": "727a13f2",
   "metadata": {},
   "outputs": [],
   "source": [
    "x_train.reset_index(drop = True,inplace = True)\n",
    "x_val.reset_index(drop = True,inplace = True) \n",
    "x_test.reset_index(drop = True,inplace = True)"
   ]
  },
  {
   "cell_type": "code",
   "execution_count": 15,
   "id": "70d0d33c",
   "metadata": {},
   "outputs": [],
   "source": [
    "y_train = x_train.fuel_efficiency_mpg.values\n",
    "y_val = x_val.fuel_efficiency_mpg.values\n",
    "y_test = x_test.fuel_efficiency_mpg.values"
   ]
  },
  {
   "cell_type": "code",
   "execution_count": 18,
   "id": "754b6ef9",
   "metadata": {},
   "outputs": [
    {
     "ename": "KeyError",
     "evalue": "'fuel_efficiency_mpg'",
     "output_type": "error",
     "traceback": [
      "\u001b[1;31m---------------------------------------------------------------------------\u001b[0m",
      "\u001b[1;31mKeyError\u001b[0m                                  Traceback (most recent call last)",
      "File \u001b[1;32m~\\Anaconda3.1\\Lib\\site-packages\\pandas\\core\\indexes\\base.py:3805\u001b[0m, in \u001b[0;36mIndex.get_loc\u001b[1;34m(self, key)\u001b[0m\n\u001b[0;32m   3804\u001b[0m \u001b[38;5;28;01mtry\u001b[39;00m:\n\u001b[1;32m-> 3805\u001b[0m     \u001b[38;5;28;01mreturn\u001b[39;00m \u001b[38;5;28mself\u001b[39m\u001b[38;5;241m.\u001b[39m_engine\u001b[38;5;241m.\u001b[39mget_loc(casted_key)\n\u001b[0;32m   3806\u001b[0m \u001b[38;5;28;01mexcept\u001b[39;00m \u001b[38;5;167;01mKeyError\u001b[39;00m \u001b[38;5;28;01mas\u001b[39;00m err:\n",
      "File \u001b[1;32mindex.pyx:167\u001b[0m, in \u001b[0;36mpandas._libs.index.IndexEngine.get_loc\u001b[1;34m()\u001b[0m\n",
      "File \u001b[1;32mindex.pyx:196\u001b[0m, in \u001b[0;36mpandas._libs.index.IndexEngine.get_loc\u001b[1;34m()\u001b[0m\n",
      "File \u001b[1;32mpandas\\\\_libs\\\\hashtable_class_helper.pxi:7081\u001b[0m, in \u001b[0;36mpandas._libs.hashtable.PyObjectHashTable.get_item\u001b[1;34m()\u001b[0m\n",
      "File \u001b[1;32mpandas\\\\_libs\\\\hashtable_class_helper.pxi:7089\u001b[0m, in \u001b[0;36mpandas._libs.hashtable.PyObjectHashTable.get_item\u001b[1;34m()\u001b[0m\n",
      "\u001b[1;31mKeyError\u001b[0m: 'fuel_efficiency_mpg'",
      "\nThe above exception was the direct cause of the following exception:\n",
      "\u001b[1;31mKeyError\u001b[0m                                  Traceback (most recent call last)",
      "Cell \u001b[1;32mIn[18], line 1\u001b[0m\n\u001b[1;32m----> 1\u001b[0m \u001b[38;5;28;01mdel\u001b[39;00m x_train[\u001b[38;5;124m\"\u001b[39m\u001b[38;5;124mfuel_efficiency_mpg\u001b[39m\u001b[38;5;124m\"\u001b[39m]\n\u001b[0;32m      2\u001b[0m \u001b[38;5;28;01mdel\u001b[39;00m x_val[\u001b[38;5;124m\"\u001b[39m\u001b[38;5;124mfuel_efficiency_mpg\u001b[39m\u001b[38;5;124m\"\u001b[39m]\n\u001b[0;32m      3\u001b[0m \u001b[38;5;28;01mdel\u001b[39;00m x_test[\u001b[38;5;124m\"\u001b[39m\u001b[38;5;124mfuel_efficiency_mpg\u001b[39m\u001b[38;5;124m\"\u001b[39m]\n",
      "File \u001b[1;32m~\\Anaconda3.1\\Lib\\site-packages\\pandas\\core\\generic.py:4506\u001b[0m, in \u001b[0;36mNDFrame.__delitem__\u001b[1;34m(self, key)\u001b[0m\n\u001b[0;32m   4501\u001b[0m             deleted \u001b[38;5;241m=\u001b[39m \u001b[38;5;28;01mTrue\u001b[39;00m\n\u001b[0;32m   4502\u001b[0m \u001b[38;5;28;01mif\u001b[39;00m \u001b[38;5;129;01mnot\u001b[39;00m deleted:\n\u001b[0;32m   4503\u001b[0m     \u001b[38;5;66;03m# If the above loop ran and didn't delete anything because\u001b[39;00m\n\u001b[0;32m   4504\u001b[0m     \u001b[38;5;66;03m# there was no match, this call should raise the appropriate\u001b[39;00m\n\u001b[0;32m   4505\u001b[0m     \u001b[38;5;66;03m# exception:\u001b[39;00m\n\u001b[1;32m-> 4506\u001b[0m     loc \u001b[38;5;241m=\u001b[39m \u001b[38;5;28mself\u001b[39m\u001b[38;5;241m.\u001b[39maxes[\u001b[38;5;241m-\u001b[39m\u001b[38;5;241m1\u001b[39m]\u001b[38;5;241m.\u001b[39mget_loc(key)\n\u001b[0;32m   4507\u001b[0m     \u001b[38;5;28mself\u001b[39m\u001b[38;5;241m.\u001b[39m_mgr \u001b[38;5;241m=\u001b[39m \u001b[38;5;28mself\u001b[39m\u001b[38;5;241m.\u001b[39m_mgr\u001b[38;5;241m.\u001b[39midelete(loc)\n\u001b[0;32m   4509\u001b[0m \u001b[38;5;66;03m# delete from the caches\u001b[39;00m\n",
      "File \u001b[1;32m~\\Anaconda3.1\\Lib\\site-packages\\pandas\\core\\indexes\\base.py:3812\u001b[0m, in \u001b[0;36mIndex.get_loc\u001b[1;34m(self, key)\u001b[0m\n\u001b[0;32m   3807\u001b[0m     \u001b[38;5;28;01mif\u001b[39;00m \u001b[38;5;28misinstance\u001b[39m(casted_key, \u001b[38;5;28mslice\u001b[39m) \u001b[38;5;129;01mor\u001b[39;00m (\n\u001b[0;32m   3808\u001b[0m         \u001b[38;5;28misinstance\u001b[39m(casted_key, abc\u001b[38;5;241m.\u001b[39mIterable)\n\u001b[0;32m   3809\u001b[0m         \u001b[38;5;129;01mand\u001b[39;00m \u001b[38;5;28many\u001b[39m(\u001b[38;5;28misinstance\u001b[39m(x, \u001b[38;5;28mslice\u001b[39m) \u001b[38;5;28;01mfor\u001b[39;00m x \u001b[38;5;129;01min\u001b[39;00m casted_key)\n\u001b[0;32m   3810\u001b[0m     ):\n\u001b[0;32m   3811\u001b[0m         \u001b[38;5;28;01mraise\u001b[39;00m InvalidIndexError(key)\n\u001b[1;32m-> 3812\u001b[0m     \u001b[38;5;28;01mraise\u001b[39;00m \u001b[38;5;167;01mKeyError\u001b[39;00m(key) \u001b[38;5;28;01mfrom\u001b[39;00m \u001b[38;5;21;01merr\u001b[39;00m\n\u001b[0;32m   3813\u001b[0m \u001b[38;5;28;01mexcept\u001b[39;00m \u001b[38;5;167;01mTypeError\u001b[39;00m:\n\u001b[0;32m   3814\u001b[0m     \u001b[38;5;66;03m# If we have a listlike key, _check_indexing_error will raise\u001b[39;00m\n\u001b[0;32m   3815\u001b[0m     \u001b[38;5;66;03m#  InvalidIndexError. Otherwise we fall through and re-raise\u001b[39;00m\n\u001b[0;32m   3816\u001b[0m     \u001b[38;5;66;03m#  the TypeError.\u001b[39;00m\n\u001b[0;32m   3817\u001b[0m     \u001b[38;5;28mself\u001b[39m\u001b[38;5;241m.\u001b[39m_check_indexing_error(key)\n",
      "\u001b[1;31mKeyError\u001b[0m: 'fuel_efficiency_mpg'"
     ]
    }
   ],
   "source": [
    "del x_train[\"fuel_efficiency_mpg\"]\n",
    "del x_val[\"fuel_efficiency_mpg\"]\n",
    "del x_test[\"fuel_efficiency_mpg\"] "
   ]
  },
  {
   "cell_type": "markdown",
   "id": "d3d7a6a7",
   "metadata": {},
   "source": [
    "### Question 3\n",
    "\n",
    "- We need to deal with missing values for the column from Q1.\n",
    "- We have two options: fill it with 0 or with the mean of this variable.\n",
    "- Try both options. For each, train a linear regression model without regularization using the code from the lessons.\n",
    "- For computing the mean, use the training only!\n",
    "- Use the validation dataset to evaluate the models and compare the RMSE of each option.\n",
    "- Round the RMSE scores to 2 decimal digits using round(score, 2)\n",
    "\n",
    "**Which option gives better RMSE?**\n",
    "\n",
    "Options:\n",
    "\n",
    "- With 0\n",
    "- With mean\n",
    "- Both are equally good"
   ]
  },
  {
   "cell_type": "markdown",
   "id": "93dc27a9",
   "metadata": {},
   "source": [
    "**Filling missing values with 0**"
   ]
  },
  {
   "cell_type": "code",
   "execution_count": 19,
   "id": "c2c8ae54",
   "metadata": {},
   "outputs": [],
   "source": [
    "def prepare_data_zero(df):\n",
    "    df = df.fillna(0)\n",
    "    X = df.values\n",
    "    return X"
   ]
  },
  {
   "cell_type": "code",
   "execution_count": 20,
   "id": "a1def8e7",
   "metadata": {},
   "outputs": [],
   "source": [
    "def train_linear_regression(X,y):\n",
    "    X = np.column_stack((np.ones(X.shape[0], dtype=int), X))\n",
    "    XTX = X.T.dot(X)\n",
    "    XTX_inv = np.linalg.inv(XTX)\n",
    "    w_full = XTX_inv.dot(X.T).dot(y)\n",
    "    return w_full[0],w_full[1:]\n"
   ]
  },
  {
   "cell_type": "code",
   "execution_count": 21,
   "id": "833903c4",
   "metadata": {},
   "outputs": [
    {
     "data": {
      "text/plain": [
       "array([[ 220.        ,  144.        , 2535.88759124, 2009.        ],\n",
       "       [ 160.        ,  141.        , 2741.17048439, 2019.        ],\n",
       "       [ 230.        ,  155.        , 2471.88023726, 2017.        ],\n",
       "       ...,\n",
       "       [ 260.        ,  139.        , 2606.9729844 , 2009.        ],\n",
       "       [ 280.        ,  132.        , 4004.21432295, 2014.        ],\n",
       "       [ 210.        ,  152.        , 2500.17568746, 2020.        ]])"
      ]
     },
     "execution_count": 21,
     "metadata": {},
     "output_type": "execute_result"
    }
   ],
   "source": [
    "X_train = prepare_data_zero(x_train)\n",
    "X_train"
   ]
  },
  {
   "cell_type": "code",
   "execution_count": 22,
   "id": "f4d50444",
   "metadata": {},
   "outputs": [
    {
     "data": {
      "text/plain": [
       "(28.810749330074547,\n",
       " array([ 9.88022381e-05,  3.54195814e-03, -5.01316573e-03,  3.51135284e-04]))"
      ]
     },
     "execution_count": 22,
     "metadata": {},
     "output_type": "execute_result"
    }
   ],
   "source": [
    "w0 , w = train_linear_regression(X_train,y_train)\n",
    "w0 , w "
   ]
  },
  {
   "cell_type": "code",
   "execution_count": 23,
   "id": "70e21fcd",
   "metadata": {},
   "outputs": [
    {
     "data": {
      "text/plain": [
       "array([[ 250.        ,  154.        , 2254.31324473, 2002.        ],\n",
       "       [ 210.        ,  152.        , 2435.20360628, 2004.        ],\n",
       "       [ 180.        ,  112.        , 2772.13441008, 2020.        ],\n",
       "       ...,\n",
       "       [ 290.        ,  205.        , 3403.40149596, 2019.        ],\n",
       "       [ 200.        ,  159.        , 2752.51603879, 2009.        ],\n",
       "       [ 230.        ,  202.        , 3303.00068812, 2008.        ]])"
      ]
     },
     "execution_count": 23,
     "metadata": {},
     "output_type": "execute_result"
    }
   ],
   "source": [
    "X_val = prepare_data_zero(x_val)\n",
    "X_val"
   ]
  },
  {
   "cell_type": "code",
   "execution_count": 24,
   "id": "6b3d6caf",
   "metadata": {},
   "outputs": [
    {
     "data": {
      "text/plain": [
       "array([18.78263838, 17.86547128, 16.0373571 , ..., 13.21262979,\n",
       "       16.30029283, 13.69553919])"
      ]
     },
     "execution_count": 24,
     "metadata": {},
     "output_type": "execute_result"
    }
   ],
   "source": [
    "y_pred = w0 + X_val.dot(w)\n",
    "y_pred"
   ]
  },
  {
   "cell_type": "code",
   "execution_count": 25,
   "id": "350aac89",
   "metadata": {},
   "outputs": [],
   "source": [
    "def rmse(y,y_pred):\n",
    "    squared_error = (y - y_pred)**2\n",
    "    mean_squared_error = squared_error.mean()\n",
    "    return np.sqrt(mean_squared_error)"
   ]
  },
  {
   "cell_type": "code",
   "execution_count": 26,
   "id": "db8ad2a3",
   "metadata": {},
   "outputs": [
    {
     "data": {
      "text/plain": [
       "0.52"
      ]
     },
     "execution_count": 26,
     "metadata": {},
     "output_type": "execute_result"
    }
   ],
   "source": [
    "score = rmse(y_val,y_pred)\n",
    "round(score,2)"
   ]
  },
  {
   "cell_type": "markdown",
   "id": "5ded6a2f",
   "metadata": {},
   "source": [
    "**Second option: Fill the missing values with training dataset horsepower's mean**"
   ]
  },
  {
   "cell_type": "code",
   "execution_count": 27,
   "id": "ebbd0a43",
   "metadata": {},
   "outputs": [
    {
     "data": {
      "text/plain": [
       "149.54348229185982"
      ]
     },
     "execution_count": 27,
     "metadata": {},
     "output_type": "execute_result"
    }
   ],
   "source": [
    "horsepower_mean = x_train[\"horsepower\"].mean()\n",
    "horsepower_mean"
   ]
  },
  {
   "cell_type": "code",
   "execution_count": 28,
   "id": "2092cd90",
   "metadata": {},
   "outputs": [
    {
     "data": {
      "text/plain": [
       "engine_displacement      0\n",
       "horsepower             429\n",
       "vehicle_weight           0\n",
       "model_year               0\n",
       "dtype: int64"
      ]
     },
     "execution_count": 28,
     "metadata": {},
     "output_type": "execute_result"
    }
   ],
   "source": [
    "x_train.isnull().sum()"
   ]
  },
  {
   "cell_type": "code",
   "execution_count": 29,
   "id": "a1e97859",
   "metadata": {},
   "outputs": [],
   "source": [
    "def prepare_data_mean(df):\n",
    "    df = df.fillna(horsepower_mean)\n",
    "    X = df.values\n",
    "    return X"
   ]
  },
  {
   "cell_type": "code",
   "execution_count": 30,
   "id": "900ad41b",
   "metadata": {},
   "outputs": [],
   "source": [
    "X_train_mean = prepare_data_mean(x_train)"
   ]
  },
  {
   "cell_type": "code",
   "execution_count": 31,
   "id": "c8098e94",
   "metadata": {},
   "outputs": [
    {
     "data": {
      "text/plain": [
       "(28.907110617345943,\n",
       " array([ 0.00012034,  0.01030286, -0.00500997, -0.00022574]))"
      ]
     },
     "execution_count": 31,
     "metadata": {},
     "output_type": "execute_result"
    }
   ],
   "source": [
    "w0_mean , w_mean  = train_linear_regression(X_train_mean,y_train)\n",
    "w0_mean , w_mean"
   ]
  },
  {
   "cell_type": "code",
   "execution_count": 32,
   "id": "2f0aea4f",
   "metadata": {},
   "outputs": [
    {
     "data": {
      "text/plain": [
       "array([[ 250.        ,  154.        , 2254.31324473, 2002.        ],\n",
       "       [ 210.        ,  152.        , 2435.20360628, 2004.        ],\n",
       "       [ 180.        ,  112.        , 2772.13441008, 2020.        ],\n",
       "       ...,\n",
       "       [ 290.        ,  205.        , 3403.40149596, 2019.        ],\n",
       "       [ 200.        ,  159.        , 2752.51603879, 2009.        ],\n",
       "       [ 230.        ,  202.        , 3303.00068812, 2008.        ]])"
      ]
     },
     "execution_count": 32,
     "metadata": {},
     "output_type": "execute_result"
    }
   ],
   "source": [
    "X_val_mean = prepare_data_mean(x_val)\n",
    "X_val_mean"
   ]
  },
  {
   "cell_type": "code",
   "execution_count": 33,
   "id": "b6936d22",
   "metadata": {},
   "outputs": [
    {
     "data": {
      "text/plain": [
       "array([18.77787065, 17.84574511, 15.73839641, ..., 13.54739898,\n",
       "       16.32580835, 14.01475775])"
      ]
     },
     "execution_count": 33,
     "metadata": {},
     "output_type": "execute_result"
    }
   ],
   "source": [
    "y_pred_mean = w0_mean + X_val_mean.dot(w_mean)\n",
    "y_pred_mean"
   ]
  },
  {
   "cell_type": "code",
   "execution_count": 34,
   "id": "178fb7a5",
   "metadata": {},
   "outputs": [
    {
     "data": {
      "text/plain": [
       "0.46"
      ]
     },
     "execution_count": 34,
     "metadata": {},
     "output_type": "execute_result"
    }
   ],
   "source": [
    "score_mean = rmse(y_val,y_pred_mean)\n",
    "round(score_mean,2)"
   ]
  },
  {
   "cell_type": "markdown",
   "id": "c479b8d0",
   "metadata": {},
   "source": [
    "The RMSE score with horsepower's mean on training dataset is \n",
    "better : 0.46<0.52"
   ]
  },
  {
   "cell_type": "markdown",
   "id": "096a55bd",
   "metadata": {},
   "source": [
    "### Question 4\n",
    "\n",
    "Now let's train a regularized linear regression.\n",
    "\n",
    "**- For this question, fill the NAs with 0.**\n",
    "\n",
    "**- Try different values of r from this list: [0, 0.01, 0.1, 1, 5, 10, 100].**\n",
    "\n",
    "**- Use RMSE to evaluate the model on the validation dataset.**\n",
    "\n",
    "**- Round the RMSE scores to 2 decimal digits.**\n",
    "\n",
    "**- Which r gives the best RMSE?**\n",
    "\n",
    "If multiple options give the same best RMSE, select the smallest r.\n",
    "\n",
    "Options:\n",
    "\n",
    "- 0\n",
    "- 0.01\n",
    "- 1\n",
    "- 10\n",
    "- 100"
   ]
  },
  {
   "cell_type": "code",
   "execution_count": 35,
   "id": "0b85d851",
   "metadata": {},
   "outputs": [],
   "source": [
    "def train_linear_regression_regularized(X,y,r= 0.01):\n",
    "    X = np.column_stack((np.ones(X.shape[0], dtype=int), X))\n",
    "    XTX = X.T.dot(X)\n",
    "    XTX = XTX + r * np.eye(XTX.shape[0])\n",
    "    XTX_inv = np.linalg.inv(XTX)\n",
    "    w_full = XTX_inv.dot(X.T).dot(y)\n",
    "    return w_full[0],w_full[1:]"
   ]
  },
  {
   "cell_type": "code",
   "execution_count": 36,
   "id": "5999ec38",
   "metadata": {},
   "outputs": [
    {
     "name": "stdout",
     "output_type": "stream",
     "text": [
      "0 28.810749330074547 0.52\n",
      "0.01 28.810749330074547 0.52\n",
      "0.1 28.810749330074547 0.52\n",
      "1 28.810749330074547 0.52\n",
      "5 28.810749330074547 0.52\n",
      "10 28.810749330074547 0.52\n",
      "100 28.810749330074547 0.52\n"
     ]
    }
   ],
   "source": [
    "for r in [0,0.01,0.1,1,5,10,100]:\n",
    "    X_train_reg = prepare_data_zero(x_train)\n",
    "    w0_reg,w_reg = train_linear_regression_regularized(X_train_reg,y_train,r= r)\n",
    "    X_val_reg = prepare_data_zero(x_val)\n",
    "    y_pred_reg = w0_reg + X_val_reg.dot(w_reg)\n",
    "    print(r,w0,round(rmse(y_val,y_pred_reg),2))"
   ]
  },
  {
   "cell_type": "markdown",
   "id": "7544601f",
   "metadata": {},
   "source": [
    "With 2 digits arounded , the smallest r is 0."
   ]
  },
  {
   "cell_type": "markdown",
   "id": "b52ae246",
   "metadata": {},
   "source": [
    "### Question 5\n",
    "\n",
    "We used seed 42 for splitting the data. Let's find out how selecting the seed influences our score.\n",
    "\n",
    "- Try different seed values: [0, 1, 2, 3, 4, 5, 6, 7, 8, 9].\n",
    "- For each seed, do the train/validation/test split with 60%/20%/20% distribution.\n",
    "- Fill the missing values with 0 and train a model without regularization.\n",
    "- For each seed, evaluate the model on the validation dataset and collect the RMSE scores.\n",
    "- What's the standard deviation of all the scores? To compute the standard deviation, use np.std.\n",
    "- Round the result to 3 decimal digits (round(std, 3))\n",
    "\n",
    "**What's the value of std?**\n",
    "\n",
    "- 0.001\n",
    "- 0.006\n",
    "- 0.060\n",
    "- 0.600"
   ]
  },
  {
   "cell_type": "code",
   "execution_count": 37,
   "id": "3891d081",
   "metadata": {},
   "outputs": [
    {
     "name": "stdout",
     "output_type": "stream",
     "text": [
      "RMSE par seed :\n",
      "seed_0: 0.521\n",
      "seed_1: 0.522\n",
      "seed_2: 0.523\n",
      "seed_3: 0.516\n",
      "seed_4: 0.511\n",
      "seed_5: 0.529\n",
      "seed_6: 0.532\n",
      "seed_7: 0.51\n",
      "seed_8: 0.515\n",
      "seed_9: 0.513\n"
     ]
    }
   ],
   "source": [
    "datasets = {}\n",
    "rmse_results = {}\n",
    "\n",
    "\n",
    "for n in range(10):  # seeds 0 to 9\n",
    " \n",
    "    \n",
    "    # Split 60/20/20\n",
    "    train_n = int(len(df)*0.6)\n",
    "    val_n = int(len(df)*0.2)\n",
    "    test_n = int(len(df)*0.2)\n",
    " \n",
    "    x_train = df.iloc[:train_n]\n",
    "    x_val = df.iloc[train_n: train_n +val_n]\n",
    "    x_test = df.iloc[train_n + val_n:]\n",
    "\n",
    "    # Shuffling indexes\n",
    "    np.random.seed(n)\n",
    "    idx = np.arange(len(df))\n",
    "    np.random.shuffle(idx)\n",
    "\n",
    "    # Extraction\n",
    "    x_train = df.iloc[idx[:train_n]]\n",
    "    x_val = df.iloc[idx[train_n: train_n +val_n]]\n",
    "    x_test = df.iloc[idx[train_n + val_n:]]\n",
    "\n",
    "    \n",
    "\n",
    "    # Reset indexes\n",
    "    x_train.reset_index(drop = True,inplace = True)\n",
    "    x_val.reset_index(drop = True,inplace = True) \n",
    "    x_test.reset_index(drop = True,inplace = True)\n",
    "\n",
    "    # Target   \n",
    "    y_train = x_train.fuel_efficiency_mpg.values\n",
    "    y_val = x_val.fuel_efficiency_mpg.values\n",
    "    y_test = x_test.fuel_efficiency_mpg.values\n",
    "\n",
    "    # Deleting the target from datasets\n",
    "    del x_train[\"fuel_efficiency_mpg\"]\n",
    "    del x_val[\"fuel_efficiency_mpg\"]\n",
    "    del x_test[\"fuel_efficiency_mpg\"] \n",
    "\n",
    "    # Prepare the data in filling zeros\n",
    "    X_train = prepare_data_zero(x_train)\n",
    "    X_val = prepare_data_zero(x_val)\n",
    "    X_test = prepare_data_zero(x_test)\n",
    "\n",
    "\n",
    "    # Savings in a versioned dictionary\n",
    "    datasets[f\"seed_{n}\"] = {\n",
    "        \"x_train\": x_train,\n",
    "        \"y_train\": y_train,\n",
    "        \"x_val\": x_val,\n",
    "        \"y_val\": y_val,\n",
    "        \"x_test\": x_test,\n",
    "        \"y_test\": y_test\n",
    "    }\n",
    "\n",
    "    # Training linear regression without regularization\n",
    "    w0 , w = train_linear_regression(X_train,y_train)\n",
    "\n",
    "    # Prediction on validation set with trained model\n",
    "    y_pred = w0 + X_val.dot(w)\n",
    "\n",
    "    # Evaluating with RMSE\n",
    "    score = round(rmse(y_val,y_pred),3)\n",
    "\n",
    "    # Storage of RMSE\n",
    "    rmse_results[f\"seed_{n}\"] = score\n",
    "\n",
    "print(\"RMSE par seed :\")\n",
    "for seed, score in rmse_results.items():\n",
    "    print(f\"{seed}: {score}\")\n",
    "\n"
   ]
  },
  {
   "cell_type": "code",
   "execution_count": 38,
   "id": "ebfee09e",
   "metadata": {},
   "outputs": [
    {
     "data": {
      "text/plain": [
       "{'seed_0': 0.521,\n",
       " 'seed_1': 0.522,\n",
       " 'seed_2': 0.523,\n",
       " 'seed_3': 0.516,\n",
       " 'seed_4': 0.511,\n",
       " 'seed_5': 0.529,\n",
       " 'seed_6': 0.532,\n",
       " 'seed_7': 0.51,\n",
       " 'seed_8': 0.515,\n",
       " 'seed_9': 0.513}"
      ]
     },
     "execution_count": 38,
     "metadata": {},
     "output_type": "execute_result"
    }
   ],
   "source": [
    "rmse_results"
   ]
  },
  {
   "cell_type": "code",
   "execution_count": 39,
   "id": "f2d487d0",
   "metadata": {},
   "outputs": [
    {
     "data": {
      "text/plain": [
       "0.0071"
      ]
     },
     "execution_count": 39,
     "metadata": {},
     "output_type": "execute_result"
    }
   ],
   "source": [
    "rmse_values = np.array(list(rmse_results.values()))\n",
    "round(np.std(rmse_values), 4)"
   ]
  },
  {
   "cell_type": "markdown",
   "id": "5d574db7",
   "metadata": {},
   "source": [
    "Standard deviation is pretty low then we can think that our model is  stable.\n",
    "\n",
    "It was predictable after viewing the distribution for our target."
   ]
  },
  {
   "cell_type": "markdown",
   "id": "9bd08566",
   "metadata": {},
   "source": [
    "### Question 6\n",
    "\n",
    "- Split the dataset like previously, use seed 9.\n",
    "- Combine train and validation datasets.\n",
    "- Fill the missing values with 0 and train a model with r=0.001.\n",
    "\n",
    "**What's the RMSE on the test dataset?**\n",
    "\n",
    "Options:\n",
    "\n",
    "- 0.15\n",
    "- 0.515\n",
    "- 5.15\n",
    "- 51.5"
   ]
  },
  {
   "cell_type": "code",
   "execution_count": 40,
   "id": "4e98069d",
   "metadata": {},
   "outputs": [
    {
     "data": {
      "text/html": [
       "<div>\n",
       "<style scoped>\n",
       "    .dataframe tbody tr th:only-of-type {\n",
       "        vertical-align: middle;\n",
       "    }\n",
       "\n",
       "    .dataframe tbody tr th {\n",
       "        vertical-align: top;\n",
       "    }\n",
       "\n",
       "    .dataframe thead th {\n",
       "        text-align: right;\n",
       "    }\n",
       "</style>\n",
       "<table border=\"1\" class=\"dataframe\">\n",
       "  <thead>\n",
       "    <tr style=\"text-align: right;\">\n",
       "      <th></th>\n",
       "      <th>engine_displacement</th>\n",
       "      <th>horsepower</th>\n",
       "      <th>vehicle_weight</th>\n",
       "      <th>model_year</th>\n",
       "    </tr>\n",
       "  </thead>\n",
       "  <tbody>\n",
       "    <tr>\n",
       "      <th>0</th>\n",
       "      <td>240</td>\n",
       "      <td>136.0</td>\n",
       "      <td>4050.512290</td>\n",
       "      <td>2006</td>\n",
       "    </tr>\n",
       "    <tr>\n",
       "      <th>1</th>\n",
       "      <td>190</td>\n",
       "      <td>141.0</td>\n",
       "      <td>3195.866942</td>\n",
       "      <td>2017</td>\n",
       "    </tr>\n",
       "    <tr>\n",
       "      <th>2</th>\n",
       "      <td>200</td>\n",
       "      <td>184.0</td>\n",
       "      <td>3006.164370</td>\n",
       "      <td>2017</td>\n",
       "    </tr>\n",
       "    <tr>\n",
       "      <th>3</th>\n",
       "      <td>200</td>\n",
       "      <td>NaN</td>\n",
       "      <td>2947.143980</td>\n",
       "      <td>2022</td>\n",
       "    </tr>\n",
       "    <tr>\n",
       "      <th>4</th>\n",
       "      <td>250</td>\n",
       "      <td>132.0</td>\n",
       "      <td>3114.371978</td>\n",
       "      <td>2001</td>\n",
       "    </tr>\n",
       "    <tr>\n",
       "      <th>...</th>\n",
       "      <td>...</td>\n",
       "      <td>...</td>\n",
       "      <td>...</td>\n",
       "      <td>...</td>\n",
       "    </tr>\n",
       "    <tr>\n",
       "      <th>7757</th>\n",
       "      <td>230</td>\n",
       "      <td>179.0</td>\n",
       "      <td>2717.552294</td>\n",
       "      <td>2003</td>\n",
       "    </tr>\n",
       "    <tr>\n",
       "      <th>7758</th>\n",
       "      <td>170</td>\n",
       "      <td>115.0</td>\n",
       "      <td>2760.369106</td>\n",
       "      <td>2022</td>\n",
       "    </tr>\n",
       "    <tr>\n",
       "      <th>7759</th>\n",
       "      <td>200</td>\n",
       "      <td>167.0</td>\n",
       "      <td>3470.715658</td>\n",
       "      <td>2003</td>\n",
       "    </tr>\n",
       "    <tr>\n",
       "      <th>7760</th>\n",
       "      <td>180</td>\n",
       "      <td>144.0</td>\n",
       "      <td>3605.310144</td>\n",
       "      <td>2016</td>\n",
       "    </tr>\n",
       "    <tr>\n",
       "      <th>7761</th>\n",
       "      <td>180</td>\n",
       "      <td>154.0</td>\n",
       "      <td>3346.965671</td>\n",
       "      <td>2018</td>\n",
       "    </tr>\n",
       "  </tbody>\n",
       "</table>\n",
       "<p>7762 rows × 4 columns</p>\n",
       "</div>"
      ],
      "text/plain": [
       "      engine_displacement  horsepower  vehicle_weight  model_year\n",
       "0                     240       136.0     4050.512290        2006\n",
       "1                     190       141.0     3195.866942        2017\n",
       "2                     200       184.0     3006.164370        2017\n",
       "3                     200         NaN     2947.143980        2022\n",
       "4                     250       132.0     3114.371978        2001\n",
       "...                   ...         ...             ...         ...\n",
       "7757                  230       179.0     2717.552294        2003\n",
       "7758                  170       115.0     2760.369106        2022\n",
       "7759                  200       167.0     3470.715658        2003\n",
       "7760                  180       144.0     3605.310144        2016\n",
       "7761                  180       154.0     3346.965671        2018\n",
       "\n",
       "[7762 rows x 4 columns]"
      ]
     },
     "execution_count": 40,
     "metadata": {},
     "output_type": "execute_result"
    }
   ],
   "source": [
    "# Extract data\n",
    "x_train_9 = datasets[\"seed_9\"]['x_train']\n",
    "x_val_9 = datasets[\"seed_9\"]['x_val']\n",
    "x_test_9 = datasets[\"seed_9\"]['x_test']\n",
    "\n",
    "# COncatenate train & validation datasets\n",
    "full_train = pd.concat([x_train_9, x_val_9])\n",
    "full_train.reset_index(drop= True,inplace = True)\n",
    "full_train"
   ]
  },
  {
   "cell_type": "code",
   "execution_count": 41,
   "id": "f3bf0566",
   "metadata": {},
   "outputs": [],
   "source": [
    "# Prepare data in filling missing values in horsepower feature\n",
    "X_full_train = prepare_data_zero(full_train)\n",
    "X_test = prepare_data_zero(x_test_9)"
   ]
  },
  {
   "cell_type": "code",
   "execution_count": 42,
   "id": "7e725be5",
   "metadata": {},
   "outputs": [
    {
     "name": "stdout",
     "output_type": "stream",
     "text": [
      "(7762, 4)\n",
      "(1942, 4)\n"
     ]
    }
   ],
   "source": [
    "print(X_full_train.shape)\n",
    "print(X_test.shape)\n"
   ]
  },
  {
   "cell_type": "code",
   "execution_count": 43,
   "id": "eb179380",
   "metadata": {},
   "outputs": [],
   "source": [
    "y_train_9 = datasets[\"seed_9\"]['y_train']\n",
    "y_val_9 = datasets[\"seed_9\"]['y_val']\n",
    "y_test_9 = datasets[\"seed_9\"]['y_test']\n",
    "\n",
    "y_full_train = np.concatenate([y_train_9,y_val_9])"
   ]
  },
  {
   "cell_type": "code",
   "execution_count": 44,
   "id": "5ba3263e",
   "metadata": {},
   "outputs": [
    {
     "name": "stdout",
     "output_type": "stream",
     "text": [
      "(7762,)\n",
      "(1942,)\n"
     ]
    }
   ],
   "source": [
    "print(y_full_train.shape)\n",
    "print(y_test_9.shape)"
   ]
  },
  {
   "cell_type": "code",
   "execution_count": 45,
   "id": "77882c4e",
   "metadata": {},
   "outputs": [
    {
     "data": {
      "text/plain": [
       "0.516"
      ]
     },
     "execution_count": 45,
     "metadata": {},
     "output_type": "execute_result"
    }
   ],
   "source": [
    "w0,w = train_linear_regression_regularized(X_full_train,y_full_train,r= 0.001)\n",
    "y_pred = w0 + X_test.dot(w)\n",
    "\n",
    "# Evaluating with RMSE\n",
    "score = round(rmse(y_test_9,y_pred),3)\n",
    "score"
   ]
  },
  {
   "cell_type": "markdown",
   "id": "780c1b2e",
   "metadata": {},
   "source": [
    "The RMSE is **0.516** with a trained linear regression on combined training & validation datasets with a regularization of 0.001."
   ]
  },
  {
   "cell_type": "markdown",
   "id": "6171f33f",
   "metadata": {},
   "source": []
  }
 ],
 "metadata": {
  "kernelspec": {
   "display_name": "Python [conda env:base] *",
   "language": "python",
   "name": "conda-base-py"
  },
  "language_info": {
   "codemirror_mode": {
    "name": "ipython",
    "version": 3
   },
   "file_extension": ".py",
   "mimetype": "text/x-python",
   "name": "python",
   "nbconvert_exporter": "python",
   "pygments_lexer": "ipython3",
   "version": "3.12.4"
  }
 },
 "nbformat": 4,
 "nbformat_minor": 5
}
